{
 "cells": [
  {
   "cell_type": "code",
   "execution_count": 3,
   "metadata": {},
   "outputs": [],
   "source": [
    "import numpy as np\n",
    "import pandas as pd\n",
    "import itertools\n",
    "import csv\n",
    "\n",
    "read_num_seq = np.array(pd.read_csv('./test_EvoSimulation_Read_Number.csv', header=None), dtype=int) \n",
    "tempt = pd.DataFrame(read_num_seq)\n",
    "tempt.to_csv('./test_EvoSimulation_Read_Number.csv', index=False, header=False)\n",
    "\n",
    "delta_t = 9\n",
    "t_seq = np.arange(0, delta_t*read_num_seq.shape[1], delta_t)\n",
    "cell_depth_seq = 1e7*delta_t*np.ones(np.shape(t_seq))\n",
    "input_test = {'0':t_seq, '1':cell_depth_seq}\n",
    "tempt = list(itertools.zip_longest(*list(input_test.values())))\n",
    "with open('./input_sequenced_time_points.csv', 'w') as f:\n",
    "    w = csv.writer(f)\n",
    "    w.writerows(tempt)\n",
    "    "
   ]
  },
  {
   "cell_type": "code",
   "execution_count": 1,
   "metadata": {},
   "outputs": [
    {
     "name": "stdout",
     "output_type": "stream",
     "text": [
      "100%|█████████████████████████████████| 199917/199917 [02:16<00:00, 1461.12it/s]\n"
     ]
    }
   ],
   "source": [
    "##############################################################################    \n",
    "!python ./pyfitmut_v10.py -i test_EvoSimulation_Read_Number.csv -t input_sequenced_time_points.csv -u 2e-5 -o test\n"
   ]
  }
 ],
 "metadata": {
  "kernelspec": {
   "display_name": "Python 3",
   "language": "python",
   "name": "python3"
  },
  "language_info": {
   "codemirror_mode": {
    "name": "ipython",
    "version": 3
   },
   "file_extension": ".py",
   "mimetype": "text/x-python",
   "name": "python",
   "nbconvert_exporter": "python",
   "pygments_lexer": "ipython3",
   "version": "3.6.8"
  }
 },
 "nbformat": 4,
 "nbformat_minor": 2
}
